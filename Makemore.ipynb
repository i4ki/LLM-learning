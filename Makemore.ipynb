{
  "nbformat": 4,
  "nbformat_minor": 0,
  "metadata": {
    "colab": {
      "provenance": [],
      "authorship_tag": "ABX9TyMv+67ZCfuP5cJIeoyr/gZm",
      "include_colab_link": true
    },
    "kernelspec": {
      "name": "python3",
      "display_name": "Python 3"
    },
    "language_info": {
      "name": "python"
    }
  },
  "cells": [
    {
      "cell_type": "markdown",
      "metadata": {
        "id": "view-in-github",
        "colab_type": "text"
      },
      "source": [
        "<a href=\"https://colab.research.google.com/github/i4ki/LLM-learning/blob/main/Makemore.ipynb\" target=\"_parent\"><img src=\"https://colab.research.google.com/assets/colab-badge.svg\" alt=\"Open In Colab\"/></a>"
      ]
    },
    {
      "cell_type": "markdown",
      "source": [
        "# Learning Language Model theory (makemore by Andrej Karpathy)\n",
        "\n",
        "The idea here is to learn the basics of Language Models by watching and reproducing the [makemore](https://github.com/karpathy/makemore) project.\n",
        "\n",
        "Makemore is a language model that generates more data that looks like the data in the original dataset.\n",
        "\n"
      ],
      "metadata": {
        "id": "ps7D4h4QP1yV"
      }
    },
    {
      "cell_type": "code",
      "execution_count": 1,
      "metadata": {
        "colab": {
          "base_uri": "https://localhost:8080/"
        },
        "cellView": "form",
        "id": "0tKiIxdDPeN6",
        "outputId": "e8ffa96c-5b08-49b3-d280-037048884001"
      },
      "outputs": [
        {
          "output_type": "stream",
          "name": "stdout",
          "text": [
            "--2024-02-18 22:26:49--  https://raw.githubusercontent.com/karpathy/makemore/master/names.txt\n",
            "Resolving raw.githubusercontent.com (raw.githubusercontent.com)... 185.199.108.133, 185.199.109.133, 185.199.110.133, ...\n",
            "Connecting to raw.githubusercontent.com (raw.githubusercontent.com)|185.199.108.133|:443... connected.\n",
            "HTTP request sent, awaiting response... 200 OK\n",
            "Length: 228145 (223K) [text/plain]\n",
            "Saving to: ‘dataset.txt’\n",
            "\n",
            "\rdataset.txt           0%[                    ]       0  --.-KB/s               \rdataset.txt         100%[===================>] 222.80K  --.-KB/s    in 0.03s   \n",
            "\n",
            "2024-02-18 22:26:50 (8.57 MB/s) - ‘dataset.txt’ saved [228145/228145]\n",
            "\n",
            "224K\tdataset.txt\n",
            "32032 dataset.txt\n"
          ]
        }
      ],
      "source": [
        "# @title Download training data set\n",
        "\n",
        "dataset_url = 'https://raw.githubusercontent.com/karpathy/makemore/master/names.txt' #@param dataset_url\n",
        "!wget -c -O dataset.txt $dataset_url\n",
        "!du -h dataset.txt\n",
        "!wc -l dataset.txt"
      ]
    },
    {
      "cell_type": "code",
      "source": [
        "# @title Load data into words\n",
        "words = open('dataset.txt').read().splitlines()\n",
        "words[0:10]"
      ],
      "metadata": {
        "colab": {
          "base_uri": "https://localhost:8080/"
        },
        "id": "K-kmg33uUwYM",
        "outputId": "d6572b40-4576-4381-a83e-42713a9ddebc"
      },
      "execution_count": 2,
      "outputs": [
        {
          "output_type": "execute_result",
          "data": {
            "text/plain": [
              "['emma',\n",
              " 'olivia',\n",
              " 'ava',\n",
              " 'isabella',\n",
              " 'sophia',\n",
              " 'charlotte',\n",
              " 'mia',\n",
              " 'amelia',\n",
              " 'harper',\n",
              " 'evelyn']"
            ]
          },
          "metadata": {},
          "execution_count": 2
        }
      ]
    },
    {
      "cell_type": "code",
      "source": [
        "# @title Computes min and max words\n",
        "\n",
        "min_word = min(len(w) for w in words)\n",
        "print(\"min_word: \", min_word)\n",
        "\n",
        "max_word = max(len(w) for w in words)\n",
        "print(\"max_word: \", max_word)\n"
      ],
      "metadata": {
        "colab": {
          "base_uri": "https://localhost:8080/"
        },
        "id": "7u7e3H6JVT9_",
        "outputId": "64237418-1a4e-49aa-fe9c-b7ad57bdebaf"
      },
      "execution_count": 4,
      "outputs": [
        {
          "output_type": "stream",
          "name": "stdout",
          "text": [
            "min_word:  2\n",
            "max_word:  15\n"
          ]
        }
      ]
    },
    {
      "cell_type": "code",
      "source": [
        "# @title Compute a bigram counter table\n",
        "\n",
        "bigram_counters = {}\n",
        "for w in words:\n",
        "  chars = ['<S>'] + list(w) + ['<E>']\n",
        "  for ch1, ch2 in zip(chars, chars[1:]):\n",
        "    bigram = (ch1, ch2)\n",
        "    bigram_counters[bigram] = bigram_counters.get(bigram, 0) + 1"
      ],
      "metadata": {
        "id": "h6vKSSUCWvnW"
      },
      "execution_count": null,
      "outputs": []
    },
    {
      "cell_type": "code",
      "source": [
        "# @title [Optional] Sort the bigram counters by frequency\n",
        "\n",
        "sorted(bigram_counters.items(), key=lambda kv: ~kv[1])\n"
      ],
      "metadata": {
        "cellView": "form",
        "id": "jUasPmaLbUtG"
      },
      "execution_count": null,
      "outputs": []
    },
    {
      "cell_type": "code",
      "source": [
        "import torch\n",
        "\n",
        "a = torch.zeros((3, 5), dtype=torch.int32)\n",
        "a"
      ],
      "metadata": {
        "colab": {
          "base_uri": "https://localhost:8080/"
        },
        "id": "P7yFtqIMc741",
        "outputId": "779ba935-e470-4371-b1bf-160d3b24f21f"
      },
      "execution_count": 15,
      "outputs": [
        {
          "output_type": "execute_result",
          "data": {
            "text/plain": [
              "tensor([[0, 0, 0, 0, 0],\n",
              "        [0, 0, 0, 0, 0],\n",
              "        [0, 0, 0, 0, 0]], dtype=torch.int32)"
            ]
          },
          "metadata": {},
          "execution_count": 15
        }
      ]
    }
  ]
}